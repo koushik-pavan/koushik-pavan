{
  "nbformat": 4,
  "nbformat_minor": 0,
  "metadata": {
    "colab": {
      "provenance": [],
      "authorship_tag": "ABX9TyM1X7Rq9bVX4FY52XRZX2X1",
      "include_colab_link": true
    },
    "kernelspec": {
      "name": "python3",
      "display_name": "Python 3"
    },
    "language_info": {
      "name": "python"
    }
  },
  "cells": [
    {
      "cell_type": "markdown",
      "metadata": {
        "id": "view-in-github",
        "colab_type": "text"
      },
      "source": [
        "<a href=\"https://colab.research.google.com/github/koushik-pavan/koushik-pavan/blob/main/arrow.ipynb\" target=\"_parent\"><img src=\"https://colab.research.google.com/assets/colab-badge.svg\" alt=\"Open In Colab\"/></a>"
      ]
    },
    {
      "cell_type": "code",
      "execution_count": 12,
      "metadata": {
        "colab": {
          "base_uri": "https://localhost:8080/",
          "height": 137
        },
        "id": "9_DGJXNWS1V0",
        "outputId": "4e93a492-ea4a-449c-8299-318330af1a1a"
      },
      "outputs": [
        {
          "output_type": "stream",
          "name": "stdout",
          "text": [
            "(357, 517, 4)\n"
          ]
        },
        {
          "output_type": "display_data",
          "data": {
            "text/plain": [
              "<Figure size 432x288 with 3 Axes>"
            ],
            "image/png": "[encoded data removed]"
          },
          "metadata": {
            "needs_background": "light"
          }
        }
      ],
      "source": [
        "from skimage import data, transform\n",
        "import numpy as np\n",
        "import matplotlib.pyplot as plt\n",
        "from PIL import Image\n",
        "import numpy\n",
        " \n",
        " \n",
        "np_img= Image.open(\"/content/arrow.png\")\n",
        "img = numpy.array(np_img)\n",
        " \n",
        "print(img.shape)\n",
        "\n",
        "theta = np.deg2rad(10)\n",
        "tx = 0\n",
        "ty = 0\n",
        "\n",
        "S, C = np.sin(theta), np.cos(theta)\n",
        "\n",
        "# Rotation matrix, angle theta, translation tx, ty\n",
        "H = np.array([[C, -S, tx],\n",
        "              [S,  C, ty],\n",
        "              [0,  0, 1]])\n",
        "\n",
        "# Translation matrix to shift the image center to the origin\n",
        "r, c = img.shape[0:2]\n",
        "T = np.array([[1, 0, -c / 2.],\n",
        "              [0, 1, -r / 2.],\n",
        "              [0, 0, 1]])\n",
        "\n",
        "# Skew, for perspective\n",
        "S = np.array([[1, 0, 0],\n",
        "              [0, 1.3, 0],\n",
        "              [0, 1e-3, 1]])\n",
        "\n",
        "img_rot = transform.warp(img, H)\n",
        "img_rot_center_skew = transform.warp(img, S.dot(np.linalg.inv(T).dot(H).dot(T)))\n",
        "\n",
        "f, (ax0, ax1, ax2) = plt.subplots(1, 3)\n",
        "ax0.imshow(img, cmap=plt.cm.gray, interpolation='nearest')\n",
        "ax1.imshow(img_rot, cmap=plt.cm.gray, interpolation='nearest')\n",
        "ax2.imshow(img_rot_center_skew, cmap=plt.cm.gray, interpolation='nearest')\n",
        "plt.show()"
      ]
    },
    {
      "cell_type": "code",
      "source": [
        "+"
      ],
      "metadata": {
        "id": "jay79JradDRi"
      },
      "execution_count": null,
      "outputs": []
    }
  ]
}